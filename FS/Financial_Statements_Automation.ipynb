{
 "cells": [
  {
   "cell_type": "markdown",
   "metadata": {
    "id": "6tpdSCVCqJFE"
   },
   "source": [
    "## Importing Modules"
   ]
  },
  {
   "cell_type": "code",
   "metadata": {
    "id": "YfTNLU5Th7Oa",
    "ExecuteTime": {
     "end_time": "2025-03-08T14:35:28.571234Z",
     "start_time": "2025-03-08T14:35:28.252395Z"
    }
   },
   "source": [
    "import pandas as pd\n",
    "import numpy as np\n",
    "import os"
   ],
   "outputs": [],
   "execution_count": 4
  },
  {
   "cell_type": "markdown",
   "metadata": {
    "id": "IohkbEnjqMzk"
   },
   "source": [
    "# !! Important !! Change The Country Name Accordingly"
   ]
  },
  {
   "metadata": {
    "ExecuteTime": {
     "end_time": "2025-03-08T14:35:29.644445Z",
     "start_time": "2025-03-08T14:35:29.642374Z"
    }
   },
   "cell_type": "code",
   "source": "country = \"USA\"",
   "outputs": [],
   "execution_count": 5
  },
  {
   "metadata": {
    "colab": {
     "base_uri": "https://localhost:8080/",
     "height": 450
    },
    "id": "WFGS10vC-xUk",
    "outputId": "41b4adeb-d0d0-48d8-8ac0-b464944b1248",
    "ExecuteTime": {
     "end_time": "2025-03-08T14:35:30.666647Z",
     "start_time": "2025-03-08T14:35:30.662368Z"
    }
   },
   "cell_type": "code",
   "source": [
    "pdf_files = [f for f in os.listdir() if f.endswith('.pdf')]\n",
    "pdf_files"
   ],
   "outputs": [
    {
     "data": {
      "text/plain": [
       "['2016.pdf',\n",
       " '2017.pdf',\n",
       " '2020.pdf',\n",
       " '2021.pdf',\n",
       " '2023.pdf',\n",
       " '2022.pdf',\n",
       " '2019.pdf',\n",
       " '2018.pdf']"
      ]
     },
     "execution_count": 6,
     "metadata": {},
     "output_type": "execute_result"
    }
   ],
   "execution_count": 6
  }
 ],
 "metadata": {
  "accelerator": "GPU",
  "colab": {
   "gpuType": "T4",
   "provenance": []
  },
  "kernelspec": {
   "display_name": "base",
   "language": "python",
   "name": "python3"
  },
  "language_info": {
   "codemirror_mode": {
    "name": "ipython",
    "version": 3
   },
   "file_extension": ".py",
   "mimetype": "text/x-python",
   "name": "python",
   "nbconvert_exporter": "python",
   "pygments_lexer": "ipython3",
   "version": "3.12.4"
  }
 },
 "nbformat": 4,
 "nbformat_minor": 0
}
